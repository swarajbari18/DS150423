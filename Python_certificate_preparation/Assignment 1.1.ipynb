{
 "cells": [
  {
   "cell_type": "markdown",
   "id": "f22b5514",
   "metadata": {},
   "source": [
    "## 1. What are the data types used in Python?"
   ]
  },
  {
   "cell_type": "code",
   "execution_count": 1,
   "id": "94404221",
   "metadata": {},
   "outputs": [],
   "source": [
    "# Python has the following built-in data types:\n",
    "\n",
    "# --Number (float, integer)\n",
    "# --String\n",
    "# --Tuple\n",
    "# --List\n",
    "# --Set\n",
    "# --Dictionary\n",
    "\n",
    "# Numbers, strings, and tuples are immutable data types, meaning they cannot be modified during runtime. \n",
    "# Lists, sets, and dictionaries are mutable, which means they can be modified during runtime."
   ]
  },
  {
   "cell_type": "markdown",
   "id": "4989cbba",
   "metadata": {},
   "source": [
    "## 2. Explain the difference between lists and tuples."
   ]
  },
  {
   "cell_type": "code",
   "execution_count": 2,
   "id": "542d73a5",
   "metadata": {},
   "outputs": [],
   "source": [
    "# Both lists and tuples are made up of elements, which are values of any Python data type. \n",
    "# However, these data types have a number of differences:\n",
    "\n",
    "# --Lists are mutable, while tuples are immutable.\n",
    "# --Lists are created with square brackets (e.g., my_list = [a, b, c]), \n",
    "#   while tuples are enclosed in parentheses (e.g., my_tuple = (a, b, c)).\n",
    "# --Lists are slower than tuples."
   ]
  },
  {
   "cell_type": "markdown",
   "id": "16087d23",
   "metadata": {},
   "source": [
    "## 3. What is a Python dictionary?"
   ]
  },
  {
   "cell_type": "code",
   "execution_count": 3,
   "id": "43a743e7",
   "metadata": {},
   "outputs": [],
   "source": [
    "# A dictionary is one of the built-in data types in Python. \n",
    "# It defines an unordered mapping of unique keys to values. \n",
    "# Dictionaries are indexed by keys, and the values can be any valid Python data type (even a user-defined class). \n",
    "# Notably, dictionaries are mutable, which means they can be modified. \n",
    "# A dictionary is created with curly braces and indexed using the square bracket notation."
   ]
  },
  {
   "cell_type": "markdown",
   "id": "bb3e1624",
   "metadata": {},
   "source": [
    "## 4. What are lambda functions?"
   ]
  },
  {
   "cell_type": "code",
   "execution_count": 4,
   "id": "10c9a626",
   "metadata": {},
   "outputs": [],
   "source": [
    "# Lambda functions are anonymous functions in Python. \n",
    "# They're very helpful when you need to define a function that's very short and consists of only one expression. \n",
    "# So, instead of formally defining the small function with a specific name, body, and return statement, \n",
    "# you can write everything in one short line of code using a lambda function."
   ]
  },
  {
   "cell_type": "markdown",
   "id": "a67ffca9",
   "metadata": {},
   "source": [
    "## 5. Explain list comprehensions and how they're used in Python."
   ]
  },
  {
   "cell_type": "code",
   "execution_count": 5,
   "id": "f069664e",
   "metadata": {},
   "outputs": [],
   "source": [
    "# List comprehensions provide a concise way to create lists.\n",
    "\n",
    "# A list is traditionally created using square brackets. \n",
    "# But with a list comprehension, these brackets contain an expression followed by a for clause and then if clauses, when necessary.\n",
    "# Evaluating the given expression in the context of these for and if clauses produces a list."
   ]
  },
  {
   "cell_type": "markdown",
   "id": "162eadea",
   "metadata": {},
   "source": [
    "## 6. What is a negative index, and how is it used in Python?"
   ]
  },
  {
   "cell_type": "code",
   "execution_count": 6,
   "id": "f154d78d",
   "metadata": {},
   "outputs": [],
   "source": [
    "# A negative index is used in Python to index a list, string, or any other container class in reverse order (from the end). \n",
    "# Thus, [-1] refers to the last element, [-2] refers to the second-to-last element, and so on."
   ]
  },
  {
   "cell_type": "markdown",
   "id": "15017479",
   "metadata": {},
   "source": [
    "## 7. Is Python an object-oriented language? What is object-oriented programming?  "
   ]
  },
  {
   "cell_type": "code",
   "execution_count": 7,
   "id": "f34e3b96",
   "metadata": {},
   "outputs": [],
   "source": [
    "# Yes, Python is an object-oriented programming language meaning it can enclose the codes within the objects. \n",
    "# The property allows the storage of the data and the method in a single unit called the object. "
   ]
  },
  {
   "cell_type": "markdown",
   "id": "ecb2264f",
   "metadata": {},
   "source": [
    "## 8. What is a Python module? How is it different from libraries?"
   ]
  },
  {
   "cell_type": "code",
   "execution_count": 8,
   "id": "89c87ec1",
   "metadata": {},
   "outputs": [],
   "source": [
    "# A module is a single file (or files) containing functions, definitions, and variables designed to do certain tasks. \n",
    "# It is a .py extension file. It can be imported at any time during a session and needs to be imported only once. \n",
    "# To import a python module, there are two ways: import or from module_name import.\n",
    "\n",
    "# A library is a collection of reusable functionality of codes that allows us to perform a variety of tasks \n",
    "# without having to write the code. \n",
    "# A Python library does not have any specific context to it. \n",
    "# It loosely refers to a collection of modules. \n",
    "# These codes can be used by importing the library and by calling that library’s method (or attribute) with a period(.)."
   ]
  },
  {
   "cell_type": "markdown",
   "id": "b0ef476e",
   "metadata": {},
   "source": [
    "## 9. What is the difference between %, /, and  //?"
   ]
  },
  {
   "cell_type": "code",
   "execution_count": 9,
   "id": "d8c54865",
   "metadata": {},
   "outputs": [],
   "source": [
    "# % is the modulus operator that returns a remainder after the division.\n",
    "\n",
    "# / is the operator that returns the quotient after the division.\n",
    "\n",
    "# // is the floor division that rounds off the quotient to the bottom.\n",
    "\n",
    "# Example: \n",
    "\n",
    "# 11 % 2 —> output = 1\n",
    "\n",
    "# 11 / 2 —> output = 5.5\n",
    "\n",
    "# 11 // 2 —> output = 5"
   ]
  },
  {
   "cell_type": "markdown",
   "id": "b599afe4",
   "metadata": {},
   "source": [
    "## 10. What is the difference between is and ‘==’ ?"
   ]
  },
  {
   "cell_type": "code",
   "execution_count": 10,
   "id": "ce89acd1",
   "metadata": {},
   "outputs": [],
   "source": [
    "# ‘==’ checks for equality between the variables, and ‘is’ checks for the identity of the variables."
   ]
  },
  {
   "cell_type": "markdown",
   "id": "6eb67f1a",
   "metadata": {},
   "source": [
    "## 11. Explain zip() and enumerate() function."
   ]
  },
  {
   "cell_type": "code",
   "execution_count": 11,
   "id": "31d47ae0",
   "metadata": {},
   "outputs": [],
   "source": [
    "# The zip() function takes multiple lists as input and creates those into a single list of tuples. It does so by taking the corresponding elements of each of the lists as a parameter. It continues this process until it finds the pairs of the tuples.\n",
    "\n",
    "# Example:  We have two lists:\n",
    "\n",
    "# l1 = [‘A’, ‘B’,’C’,’D’] and l2 = [50,100, 150, 200].\n",
    "\n",
    "# zip(list1, list2) \n",
    "\n",
    "# Output: A list of four tuples: [(‘A’,50), (‘B’,100), (’C’,150), (’D’,200)] \n",
    "\n",
    "# In case the length of the lists is not the same, then the zip() function will not generate the tuples once the list with the shooter length ends. \n",
    "\n",
    "# The enumerate() function also takes a list as input and creates a list of tuples. However, its output is: the first element of the tuple is the position of that element in the list and the second element of the tuple is the actual value of the element in the list.\n",
    "\n",
    "# In short, enumerate() function assigns an index to each item in an iterable object that can be used to reference the item later. It makes it easier to keep track of the content of an iterable object. It returns (position, value). It can only take one list at a time as an input as it takes the position of all the elements.\n",
    "\n",
    "# Example:\n",
    "\n",
    "# list2 = [“apple”,”ball”,”cat”]\n",
    "\n",
    "# e1 = enumerate(list2)\n",
    "\n",
    "# print(e1)\n",
    "\n",
    "# Output: [(0, ‘apple’), (1, ball’), (2, ‘cat’)]"
   ]
  },
  {
   "cell_type": "markdown",
   "id": "5b3db74f",
   "metadata": {},
   "source": [
    "## 12. How do map, reduce and filter functions work?"
   ]
  },
  {
   "cell_type": "code",
   "execution_count": 12,
   "id": "4c231121",
   "metadata": {},
   "outputs": [],
   "source": [
    "# Map function applies the given function to all the iterable and returns a new modified list. It applies the same function to each element of a sequence. \n",
    "\n",
    "# Reduce function applies the same operation to items of a sequence. \n",
    "# It uses the result of operations as the first param of the next operation. It returns an item and not a list.\n",
    "\n",
    "# Filter function filters an item out of a sequence. \n",
    "# It is used to filter the given iterable (list, sets, tuple) with the help of another function passed as an argument to test all the elements to be true or false. \n",
    "# Its output is a filtered list. "
   ]
  },
  {
   "cell_type": "markdown",
   "id": "5b797c66",
   "metadata": {},
   "source": [
    "## 13. What is the difference between del(), clear(), remove(),  and pop()?"
   ]
  },
  {
   "cell_type": "code",
   "execution_count": 13,
   "id": "e4925dff",
   "metadata": {},
   "outputs": [],
   "source": [
    "# del(): deletes the with respect to the position of the value. \n",
    "#        It does not return which value is deleted. \n",
    "#        It also changes the index towards the right by decreasing one value. \n",
    "#        It can also be used to delete the entire data structure.\n",
    "# clear(): clears the list.\n",
    "# remove(): it deletes with respect to the value hence can be used if you know which particular value to delete.\n",
    "# pop(): by default removes the last element and also returns back which value is deleted. \n",
    "#        It is used extensively when we would want to create referencing. \n",
    "#        In sense, we can store this deleted return value in a variable and use in future. "
   ]
  },
  {
   "cell_type": "markdown",
   "id": "8e01f050",
   "metadata": {},
   "source": [
    "## 14. What is the difference between pass, continue and break?"
   ]
  },
  {
   "cell_type": "code",
   "execution_count": 14,
   "id": "39d9f537",
   "metadata": {},
   "outputs": [],
   "source": [
    "# Pass: It is used when you need some block of code syntactically, but you want to skip its execution. \n",
    "#       This is basically a null operation. Nothing happens when this is executed.\n",
    "\n",
    "# Continue: It allows to skip some part of a loop when some specific condition is met, \n",
    "#           and the control is transferred to the beginning of the loop. \n",
    "#           The loop does not terminate but continues with the next iteration.\n",
    "\n",
    "# Break: It allows the loop to terminate when some condition is met, \n",
    "#        and the control of the program flows to the  statement immediately after the body of the loop. \n",
    "#        If the break statement is inside a nested loop (the loop inside another loop), \n",
    "#        then the break statement will terminate the innermost loop."
   ]
  },
  {
   "cell_type": "markdown",
   "id": "a31e5ce1",
   "metadata": {},
   "source": [
    "## 15. What is the difference between global and local variables"
   ]
  },
  {
   "cell_type": "code",
   "execution_count": 15,
   "id": "b1ffcdce",
   "metadata": {},
   "outputs": [],
   "source": [
    "# Global variables are the ones that are defined and declared outside a function, and we need to use them inside a function. \n",
    "# A variable declared inside the function’s body or the local scope is known as a local variable."
   ]
  },
  {
   "cell_type": "markdown",
   "id": "28c7e332",
   "metadata": {},
   "source": [
    "## 16. What does *args, **kwargs mean? When are these used?"
   ]
  },
  {
   "cell_type": "code",
   "execution_count": 16,
   "id": "72ef408e",
   "metadata": {},
   "outputs": [],
   "source": [
    "# *args and *kwargs are keywords that allow a function to take the variable-length argument.\n",
    "\n",
    "# *args:\n",
    "\n",
    "# --It is used to pass a variable number of arguments to a function\n",
    "# --It reads the value one by one and prints the value\n",
    "# --It is used when we are not sure of how many arguments will be passed to a function.\n",
    "# --The symbol * is used to indicate to take in a variable number of arguments\n",
    "\n",
    "# *kwargs:\n",
    "\n",
    "# --It is used to pass a keyworded, variable-length argument list\n",
    "# --It is used when we do not know how many keyword arguments to be passed to a function\n",
    "# --The symbol ** is to indicate pass through keyword argument\n",
    "# --This helps to unpack a dictionary"
   ]
  },
  {
   "cell_type": "markdown",
   "id": "71768b40",
   "metadata": {},
   "source": [
    "## 17. What is the difference between print and return?"
   ]
  },
  {
   "cell_type": "code",
   "execution_count": 17,
   "id": "1ffa9c50",
   "metadata": {},
   "outputs": [],
   "source": [
    "# The print does not store any value. \n",
    "# It simply prints the value, whereas return gives the value as an output that can be stored in a variable or a data structure."
   ]
  },
  {
   "cell_type": "markdown",
   "id": "d17cf793",
   "metadata": {},
   "source": [
    "## 18. What is the use of the With statement?\n"
   ]
  },
  {
   "cell_type": "code",
   "execution_count": 18,
   "id": "0ab311a2",
   "metadata": {},
   "outputs": [],
   "source": [
    "# With statement helps in exception handling and also in processing the files when used with an open file.  Using this way:\n",
    "\n",
    "# with open(“filename,” “mode”) as file_name: \n",
    "\n",
    "# We can open and process the file, and we do not need to close the file explicitly. \n",
    "# Post the with block exists., then the file object is closed. \n",
    "# The With statement is resourceful and ensures that the file stream process is not stopped, \n",
    "# and in case an exception is raised, it ends properly."
   ]
  },
  {
   "cell_type": "markdown",
   "id": "0a1b4b1c",
   "metadata": {},
   "source": [
    "## 19. How is exception handling achieved in Python?"
   ]
  },
  {
   "cell_type": "code",
   "execution_count": 19,
   "id": "10128f94",
   "metadata": {},
   "outputs": [],
   "source": [
    "# With the help of exception handling, we can prevent the breaking of codes if an error is faced during the run time of the code. \n",
    "# In Python, can implement the exception handling using two keywords: try and except.\n",
    "\n",
    "# Try tries to execute the code that belongs to it.\n",
    "\n",
    "# Except is used after the try block and catches all the specific errors which would appear on running the codes under the \n",
    "# try block.\n",
    "\n",
    "# Except\n",
    "\n",
    "# For example: adding an integer with a string is not possible. How would exception handling work in such a scenario is:\n",
    "\n",
    "# try:\n",
    "\n",
    "#     a = 9 + ‘Alphabet’\n",
    "\n",
    "# except:\n",
    "\n",
    "#     a = 40\n",
    "\n",
    "# print(a)\n",
    "\n",
    "# This will give the output of  40.\n",
    "\n",
    "# If had only given the command as:\n",
    "\n",
    "# a = 9 + ‘Alphabet’\n",
    "\n",
    "# print(a)\n",
    "\n",
    "# Then, Python would return the TypeError: unsupported operand type(s) for +: ‘int’ and ‘str’"
   ]
  },
  {
   "cell_type": "markdown",
   "id": "e9458f52",
   "metadata": {},
   "source": [
    "## 20. When to use for loop and while loop?"
   ]
  },
  {
   "cell_type": "code",
   "execution_count": 20,
   "id": "f8d6af6d",
   "metadata": {},
   "outputs": [],
   "source": [
    "# For loop is used when you know beforehand which elements need to be iterated. \n",
    "# If you want to iterate over every element of the data structure, then use For loop. On the other hand, \n",
    "# the While loop is used to check for some conditions on the variables. \n",
    "# Here, we know the exact condition to run but do not know how many times to run the loop."
   ]
  }
 ],
 "metadata": {
  "kernelspec": {
   "display_name": "Python 3 (ipykernel)",
   "language": "python",
   "name": "python3"
  },
  "language_info": {
   "codemirror_mode": {
    "name": "ipython",
    "version": 3
   },
   "file_extension": ".py",
   "mimetype": "text/x-python",
   "name": "python",
   "nbconvert_exporter": "python",
   "pygments_lexer": "ipython3",
   "version": "3.8.0"
  }
 },
 "nbformat": 4,
 "nbformat_minor": 5
}

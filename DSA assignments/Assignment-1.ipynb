{
 "cells": [
  {
   "cell_type": "markdown",
   "id": "d92f6c0d",
   "metadata": {},
   "source": [
    "### Q1. Write a program to find all pairs of an integer array whose sum is equal to a given number?"
   ]
  },
  {
   "cell_type": "code",
   "execution_count": 1,
   "id": "ace3268e",
   "metadata": {},
   "outputs": [],
   "source": [
    "def binary_search(numbers_list, number_to_find):\n",
    "    left_index = 0\n",
    "    right_index = len(numbers_list)-1\n",
    "    while left_index<=right_index:\n",
    "        mid_index = (left_index+right_index)//2\n",
    "        mid_number = numbers_list[mid_index]\n",
    "        if mid_number==number_to_find:\n",
    "            return mid_index\n",
    "        elif mid_number<number_to_find:\n",
    "            left_index = mid_index+1\n",
    "        else:\n",
    "            right_index = mid_index-1\n",
    "    return -1\n"
   ]
  },
  {
   "cell_type": "code",
   "execution_count": 2,
   "id": "32eb928e",
   "metadata": {},
   "outputs": [],
   "source": [
    "arr = [0,1,2,3,4,5,6,7,8,9,10]\n",
    "sumation = 9\n",
    "lst = []"
   ]
  },
  {
   "cell_type": "code",
   "execution_count": 3,
   "id": "0134b6c5",
   "metadata": {},
   "outputs": [],
   "source": [
    "index = 0\n",
    "while arr:\n",
    "    find = sumation - arr[index]\n",
    "    result = binary_search(arr, find)\n",
    "    if result == -1:\n",
    "        arr.remove(arr[index])\n",
    "    else:\n",
    "        lst.append((arr[index], arr[result]))\n",
    "        arr.remove(arr[index])\n",
    "        arr.remove(arr[result])\n",
    "        "
   ]
  },
  {
   "cell_type": "code",
   "execution_count": 4,
   "id": "601d724c",
   "metadata": {},
   "outputs": [
    {
     "name": "stdout",
     "output_type": "stream",
     "text": [
      "These are the pairs:     [(0, 9), (1, 8), (2, 7), (3, 6), (4, 5)]\n"
     ]
    }
   ],
   "source": [
    "print('These are the pairs:    ', lst)"
   ]
  },
  {
   "cell_type": "markdown",
   "id": "8e88530c",
   "metadata": {},
   "source": [
    "### Q2. Write a program to reverse an array in place? In place means you cannot create a new array. You have to update the original array."
   ]
  },
  {
   "cell_type": "code",
   "execution_count": 6,
   "id": "8b9ffe7b",
   "metadata": {},
   "outputs": [],
   "source": [
    "array1 = [1,2,3,4,5,6,7,8,9]\n",
    "last_ind = len(array1)-1\n",
    "for i in range(len(array1)//2):\n",
    "        array1[i], array1[last_ind-i] = array1[last_ind-i], array1[i]\n",
    "\n"
   ]
  },
  {
   "cell_type": "code",
   "execution_count": 7,
   "id": "d987714d",
   "metadata": {},
   "outputs": [
    {
     "name": "stdout",
     "output_type": "stream",
     "text": [
      "In-place reversed array is:    [9, 8, 7, 6, 5, 4, 3, 2, 1]\n"
     ]
    }
   ],
   "source": [
    "print('In-place reversed array is:   ', array1)"
   ]
  },
  {
   "cell_type": "markdown",
   "id": "8c5a9de3",
   "metadata": {},
   "source": [
    "### Q3. Write a program to check if two strings are a rotation of each other?"
   ]
  },
  {
   "cell_type": "code",
   "execution_count": 9,
   "id": "f8e7020a",
   "metadata": {},
   "outputs": [
    {
     "name": "stdout",
     "output_type": "stream",
     "text": [
      "Enter string 1ana\n",
      "Enter string 2ana\n",
      "rotation is:   True\n"
     ]
    }
   ],
   "source": [
    "str1 = input('Enter string 1')\n",
    "str2 = input('Enter string 2')\n",
    "if str1 == str2[::-1]:\n",
    "    rotation = True\n",
    "else:\n",
    "    rotation = False\n",
    "\n",
    "print('rotation is:  ', rotation)"
   ]
  },
  {
   "cell_type": "markdown",
   "id": "d6f56df7",
   "metadata": {},
   "source": [
    "### Q4. Write a program to print the first non-repeated character from a string?"
   ]
  },
  {
   "cell_type": "code",
   "execution_count": 12,
   "id": "c4bf3490",
   "metadata": {},
   "outputs": [
    {
     "name": "stdout",
     "output_type": "stream",
     "text": [
      "Enter string:   annanaspizza\n",
      "The first non-repeating chaacter is:  s\n"
     ]
    }
   ],
   "source": [
    "str3 = input('Enter string:   ')\n",
    "\n",
    "from collections import Counter\n",
    "dict1 = Counter(str3)\n",
    "for k, v in dict1.items():\n",
    "    if v == 1:\n",
    "        chrtr = k\n",
    "        break\n",
    "        \n",
    "            \n",
    "print('The first non-repeating chaacter is: ', chrtr)"
   ]
  },
  {
   "cell_type": "markdown",
   "id": "0fb0b957",
   "metadata": {},
   "source": [
    "### Q5. Read about the Tower of Hanoi algorithm. Write a program to implement it."
   ]
  },
  {
   "cell_type": "code",
   "execution_count": 14,
   "id": "6e4bff4f",
   "metadata": {},
   "outputs": [
    {
     "name": "stdout",
     "output_type": "stream",
     "text": [
      "[1, 2, 3, 4, 5, 6, 7, 8, 9]\n"
     ]
    }
   ],
   "source": [
    "from collections import deque\n",
    "\n",
    "rod1 = [1,2,3,4,5,6,7,8,9]   \n",
    "rod2 = deque()   # we could have done it using list also, but deque internally uses double linked list, tht's why I prefferd this\n",
    "rod3 = []\n",
    "\n",
    "while rod1:\n",
    "    ele = rod1.pop()\n",
    "    rod2.append(ele)\n",
    "\n",
    "while rod2:\n",
    "    ele = rod2.pop()\n",
    "    rod3.append(ele)\n",
    "    \n",
    "print(rod3)\n",
    "\n"
   ]
  },
  {
   "cell_type": "markdown",
   "id": "3067ab4f",
   "metadata": {},
   "source": [
    "### Q6. Read about infix, prefix, and postfix expressions. Write a program to convert postfix to prefix expression"
   ]
  },
  {
   "cell_type": "markdown",
   "id": "d4c77dd2",
   "metadata": {},
   "source": [
    "###### Infix to postfix"
   ]
  },
  {
   "cell_type": "code",
   "execution_count": 5,
   "id": "7accfaaf",
   "metadata": {},
   "outputs": [],
   "source": [
    "from collections import deque\n",
    "stack1 = deque()\n",
    "#  a dictionary of operators and thier assumed precedence\n",
    "operators = {'+':1, '-':1, '*':2, '/':2}"
   ]
  },
  {
   "cell_type": "code",
   "execution_count": 13,
   "id": "09938882",
   "metadata": {},
   "outputs": [],
   "source": [
    "def inf_to_post(i):\n",
    "    if len(stack1) == 0:\n",
    "        stack1.append((i, operators[i]))\n",
    "    else:\n",
    "        if stack1[-1][1]<operators[i]:\n",
    "            stack1.append((i, operators[i]))\n",
    "        else:\n",
    "            ele = stack1.pop()[0]\n",
    "            global postfix_exp\n",
    "            postfix_exp += ele\n",
    "            inf_to_post(i)"
   ]
  },
  {
   "cell_type": "code",
   "execution_count": 14,
   "id": "fa52e59c",
   "metadata": {},
   "outputs": [],
   "source": [
    "# please fell free to cjange the infix expression as per your requirement\n",
    "infix_exp = 'x-y/z-k*d'\n",
    "postfix_exp = ''\n",
    "for i in infix_exp:\n",
    "    if i in operators:\n",
    "        inf_to_post(i)\n",
    "    else:\n",
    "        postfix_exp += i\n",
    "\n",
    "while stack1:\n",
    "    postfix_exp += stack1.pop()[0]\n"
   ]
  },
  {
   "cell_type": "code",
   "execution_count": 15,
   "id": "d42f72ca",
   "metadata": {},
   "outputs": [
    {
     "data": {
      "text/plain": [
       "'xyz/-kd*-'"
      ]
     },
     "execution_count": 15,
     "metadata": {},
     "output_type": "execute_result"
    }
   ],
   "source": [
    "postfix_exp"
   ]
  },
  {
   "cell_type": "markdown",
   "id": "18a59d4b",
   "metadata": {},
   "source": [
    "###### postfix to prefix\n"
   ]
  },
  {
   "cell_type": "code",
   "execution_count": 16,
   "id": "47482352",
   "metadata": {},
   "outputs": [
    {
     "data": {
      "text/plain": [
       "'xyz/-kd*-'"
      ]
     },
     "execution_count": 16,
     "metadata": {},
     "output_type": "execute_result"
    }
   ],
   "source": [
    "postfix_exp"
   ]
  },
  {
   "cell_type": "code",
   "execution_count": 21,
   "id": "131aa362",
   "metadata": {},
   "outputs": [],
   "source": [
    "stack2 = deque()\n",
    "for _ in postfix_exp:\n",
    "    if _ in operators:\n",
    "        ele1 = stack2.pop()\n",
    "        ele2 = stack2.pop()\n",
    "        exp = _+ele2+ele1\n",
    "        stack2.append(exp)\n",
    "    else:\n",
    "        stack2.append(_)\n",
    "\n",
    "prefix_exp = stack2.pop()\n"
   ]
  },
  {
   "cell_type": "code",
   "execution_count": 22,
   "id": "d7988dd1",
   "metadata": {},
   "outputs": [
    {
     "data": {
      "text/plain": [
       "'--x/yz*kd'"
      ]
     },
     "execution_count": 22,
     "metadata": {},
     "output_type": "execute_result"
    }
   ],
   "source": [
    "prefix_exp"
   ]
  },
  {
   "cell_type": "markdown",
   "id": "4d10b11e",
   "metadata": {},
   "source": [
    "### Q8. Write a program to check if all the brackets are closed in a given code snippet"
   ]
  },
  {
   "cell_type": "code",
   "execution_count": 23,
   "id": "9102cb30",
   "metadata": {},
   "outputs": [],
   "source": [
    "from collections import deque\n",
    "\n",
    "class Stack:\n",
    "    def __init__(self):\n",
    "        self.container = deque()\n",
    "\n",
    "    def push(self, val):\n",
    "        self.container.append(val)\n",
    "\n",
    "    def pop(self):\n",
    "        return self.container.pop()\n",
    "\n",
    "    def peek(self):\n",
    "        return self.container[-1]\n",
    "\n",
    "    def is_empty(self):\n",
    "        return len(self.container) == 0\n",
    "\n",
    "    def size(self):\n",
    "        return len(self.container)\n",
    "\n",
    "def is_match(ch1, ch2):\n",
    "    match_dict = {\n",
    "        ')': '(',\n",
    "        ']': '[',\n",
    "        '}': '{'\n",
    "    }\n",
    "    return match_dict[ch1] == ch2\n",
    "\n",
    "\n",
    "def is_balanced(s):\n",
    "    stack = Stack()\n",
    "    for ch in s:\n",
    "        if ch=='(' or ch=='{' or ch == '[':\n",
    "            stack.push(ch)\n",
    "        if ch==')' or ch=='}' or ch == ']':\n",
    "            if stack.size()==0:\n",
    "                return False\n",
    "            if not is_match(ch,stack.pop()):\n",
    "                return False\n",
    "\n",
    "    return stack.size()==0\n"
   ]
  },
  {
   "cell_type": "code",
   "execution_count": 24,
   "id": "bd0c8527",
   "metadata": {},
   "outputs": [
    {
     "name": "stdout",
     "output_type": "stream",
     "text": [
      "True\n",
      "False\n"
     ]
    }
   ],
   "source": [
    "print(is_balanced(\"((a+g))\"))\n",
    "print(is_balanced(\"))\"))"
   ]
  },
  {
   "cell_type": "markdown",
   "id": "0b79557d",
   "metadata": {},
   "source": [
    "### Q9. Write a program to reverse a stack."
   ]
  },
  {
   "cell_type": "code",
   "execution_count": 26,
   "id": "2753d24d",
   "metadata": {},
   "outputs": [
    {
     "name": "stdout",
     "output_type": "stream",
     "text": [
      "deque([9, 8, 7, 6, 5, 4, 3, 2, 1])\n"
     ]
    }
   ],
   "source": [
    "given_stack = deque([1,2,3,4,5,6,7,8,9])\n",
    "queue = deque()\n",
    "while given_stack:\n",
    "    queue.appendleft(given_stack.pop())\n",
    "while queue:\n",
    "    given_stack.append(queue.pop())\n",
    "\n",
    "print(given_stack)"
   ]
  },
  {
   "cell_type": "markdown",
   "id": "0e3d4088",
   "metadata": {},
   "source": [
    "### Q10. Write a program to find the smallest number using a stack."
   ]
  },
  {
   "cell_type": "code",
   "execution_count": 28,
   "id": "6ea89d62",
   "metadata": {},
   "outputs": [
    {
     "name": "stdout",
     "output_type": "stream",
     "text": [
      "11\n"
     ]
    }
   ],
   "source": [
    "stack3 = deque()\n",
    "numbers = (91,34,13,67,43,87,96,55,11,45,78,900)\n",
    "for i in numbers:\n",
    "    if len(stack3)==0:\n",
    "        stack3.append(i)\n",
    "    else:\n",
    "        if i<stack3[-1]:\n",
    "            stack3.pop()\n",
    "            stack3.append(i)\n",
    "            \n",
    "min_value = stack3.pop()\n",
    "print(min_value)"
   ]
  },
  {
   "cell_type": "code",
   "execution_count": null,
   "id": "313a71cc",
   "metadata": {},
   "outputs": [],
   "source": []
  }
 ],
 "metadata": {
  "kernelspec": {
   "display_name": "Python 3 (ipykernel)",
   "language": "python",
   "name": "python3"
  },
  "language_info": {
   "codemirror_mode": {
    "name": "ipython",
    "version": 3
   },
   "file_extension": ".py",
   "mimetype": "text/x-python",
   "name": "python",
   "nbconvert_exporter": "python",
   "pygments_lexer": "ipython3",
   "version": "3.8.0"
  }
 },
 "nbformat": 4,
 "nbformat_minor": 5
}
